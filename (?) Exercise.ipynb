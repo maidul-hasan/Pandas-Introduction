{
 "cells": [
  {
   "cell_type": "markdown",
   "metadata": {},
   "source": [
    "#### Import Statements"
   ]
  },
  {
   "cell_type": "code",
   "execution_count": 1,
   "metadata": {},
   "outputs": [],
   "source": [
    "import pandas as pd\n",
    "import numpy as np"
   ]
  },
  {
   "cell_type": "markdown",
   "metadata": {},
   "source": [
    "#### Reading the Data Files"
   ]
  },
  {
   "cell_type": "markdown",
   "metadata": {},
   "source": [
    "----------"
   ]
  },
  {
   "cell_type": "code",
   "execution_count": 2,
   "metadata": {
    "ExecuteTime": {
     "end_time": "2020-11-09T09:57:11.277501Z",
     "start_time": "2020-11-09T09:57:11.181429Z"
    }
   },
   "outputs": [],
   "source": [
    "schema_df = pd.read_csv(\n",
    "    \"PandasSampleData/survey_results_schema.csv\", index_col=\"Column\"\n",
    ")\n",
    "na_vals = [\"NA\", \"N/A\", \"Missing\", \"MISSING\"]\n",
    "df = pd.read_csv(\"PandasSampleData/survey_results_public.csv\", na_values=na_vals)"
   ]
  },
  {
   "cell_type": "code",
   "execution_count": 3,
   "metadata": {},
   "outputs": [],
   "source": [
    "dt_df = pd.read_csv(\"PandasSampleData/ETH_1h.csv\")"
   ]
  },
  {
   "cell_type": "code",
   "execution_count": 4,
   "metadata": {},
   "outputs": [],
   "source": [
    "# We have to convert the Date column to pandas datetime object as Date is stored as string. \n",
    "dt_df[\"Date\"] = pd.to_datetime(dt_df[\"Date\"], format=\"%Y-%m-%d %I-%p\")"
   ]
  },
  {
   "cell_type": "code",
   "execution_count": 5,
   "metadata": {},
   "outputs": [],
   "source": [
    "dt_df.set_index(\"Date\", inplace=True)"
   ]
  },
  {
   "cell_type": "markdown",
   "metadata": {},
   "source": [
    "-------"
   ]
  },
  {
   "cell_type": "markdown",
   "metadata": {},
   "source": [
    " "
   ]
  },
  {
   "cell_type": "code",
   "execution_count": 6,
   "metadata": {
    "ExecuteTime": {
     "end_time": "2020-11-09T09:57:11.413512Z",
     "start_time": "2020-11-09T09:57:11.280127Z"
    }
   },
   "outputs": [],
   "source": [
    "schema_df.sort_index(ascending=True, inplace=True)"
   ]
  },
  {
   "cell_type": "code",
   "execution_count": 7,
   "metadata": {
    "ExecuteTime": {
     "end_time": "2020-11-09T09:57:11.612780Z",
     "start_time": "2020-11-09T09:57:11.497078Z"
    }
   },
   "outputs": [
    {
     "data": {
      "text/plain": [
       "'What is your current total compensation (salary, bonuses, and perks, before taxes and deductions), in `CurrencySymbol`? Please enter a whole number in the box below, without any punctuation. If you are paid hourly, please estimate an equivalent weekly, monthly, or yearly salary. If you prefer not to answer, please leave the box empty.'"
      ]
     },
     "execution_count": 7,
     "metadata": {},
     "output_type": "execute_result"
    }
   ],
   "source": [
    "schema_df.loc[\"CompTotal\", \"QuestionText\"]"
   ]
  },
  {
   "cell_type": "code",
   "execution_count": 8,
   "metadata": {
    "ExecuteTime": {
     "end_time": "2020-11-09T09:57:11.709346Z",
     "start_time": "2020-11-09T09:57:11.616502Z"
    }
   },
   "outputs": [
    {
     "data": {
      "text/plain": [
       "Age\n",
       "25.0     2693\n",
       "28.0     2412\n",
       "30.0     2406\n",
       "26.0     2391\n",
       "27.0     2338\n",
       "         ... \n",
       "39.5        1\n",
       "35.7        1\n",
       "31.5        1\n",
       "34.5        1\n",
       "279.0       1\n",
       "Length: 110, dtype: int64"
      ]
     },
     "execution_count": 8,
     "metadata": {},
     "output_type": "execute_result"
    }
   ],
   "source": [
    "df.value_counts(\"Age\") # Pass in 'normalize=True' to see the output in percentage of 1.  "
   ]
  },
  {
   "cell_type": "code",
   "execution_count": 9,
   "metadata": {
    "ExecuteTime": {
     "end_time": "2020-11-09T09:57:11.848852Z",
     "start_time": "2020-11-09T09:57:11.714701Z"
    }
   },
   "outputs": [
    {
     "data": {
      "text/html": [
       "<div>\n",
       "<style scoped>\n",
       "    .dataframe tbody tr th:only-of-type {\n",
       "        vertical-align: middle;\n",
       "    }\n",
       "\n",
       "    .dataframe tbody tr th {\n",
       "        vertical-align: top;\n",
       "    }\n",
       "\n",
       "    .dataframe thead th {\n",
       "        text-align: right;\n",
       "    }\n",
       "</style>\n",
       "<table border=\"1\" class=\"dataframe\">\n",
       "  <thead>\n",
       "    <tr style=\"text-align: right;\">\n",
       "      <th></th>\n",
       "      <th>Age</th>\n",
       "      <th>ConvertedComp</th>\n",
       "    </tr>\n",
       "  </thead>\n",
       "  <tbody>\n",
       "    <tr>\n",
       "      <th>20047</th>\n",
       "      <td>22.0</td>\n",
       "      <td>117276.0</td>\n",
       "    </tr>\n",
       "    <tr>\n",
       "      <th>38128</th>\n",
       "      <td>NaN</td>\n",
       "      <td>155976.0</td>\n",
       "    </tr>\n",
       "    <tr>\n",
       "      <th>6297</th>\n",
       "      <td>NaN</td>\n",
       "      <td>275772.0</td>\n",
       "    </tr>\n",
       "  </tbody>\n",
       "</table>\n",
       "</div>"
      ],
      "text/plain": [
       "        Age  ConvertedComp\n",
       "20047  22.0       117276.0\n",
       "38128   NaN       155976.0\n",
       "6297    NaN       275772.0"
      ]
     },
     "execution_count": 9,
     "metadata": {},
     "output_type": "execute_result"
    }
   ],
   "source": [
    "# We can also use String methods in pandas by using \".str\" class to manipulate strings\n",
    "countries = [\"India\", \"Bangladesh\"]\n",
    "filt = (\n",
    "    (df[\"ConvertedComp\"] > 70000)\n",
    "    & (df[\"Country\"].isin(countries))\n",
    "    & ((df[\"LanguageWorkedWith\"]).str.contains(\"Python\", na=False))\n",
    ")\n",
    "# df.loc[salary_filt, [\"Country\", \"Age\", \"ConvertedComp\", \"CurrencyDesc\", \"UndergradMajor\", \"EdLevel\", \"DevType\", \"LanguageWorkedWith\", \"YearsCode\", \"YearsCodePro\"]]\n",
    "df.loc[filt, [\"Age\", \"ConvertedComp\"]].sample(3)"
   ]
  },
  {
   "cell_type": "code",
   "execution_count": 10,
   "metadata": {},
   "outputs": [
    {
     "data": {
      "text/html": [
       "<div>\n",
       "<style scoped>\n",
       "    .dataframe tbody tr th:only-of-type {\n",
       "        vertical-align: middle;\n",
       "    }\n",
       "\n",
       "    .dataframe tbody tr th {\n",
       "        vertical-align: top;\n",
       "    }\n",
       "\n",
       "    .dataframe thead th {\n",
       "        text-align: right;\n",
       "    }\n",
       "</style>\n",
       "<table border=\"1\" class=\"dataframe\">\n",
       "  <thead>\n",
       "    <tr style=\"text-align: right;\">\n",
       "      <th></th>\n",
       "      <th>Respondent</th>\n",
       "      <th>MainBranch</th>\n",
       "      <th>Hobbyist</th>\n",
       "      <th>Age</th>\n",
       "      <th>Age1stCode</th>\n",
       "      <th>CompFreq</th>\n",
       "      <th>CompTotal</th>\n",
       "      <th>ConvertedComp</th>\n",
       "      <th>Country</th>\n",
       "      <th>CurrencyDesc</th>\n",
       "      <th>...</th>\n",
       "      <th>SurveyEase</th>\n",
       "      <th>SurveyLength</th>\n",
       "      <th>Trans</th>\n",
       "      <th>UndergradMajor</th>\n",
       "      <th>WebframeDesireNextYear</th>\n",
       "      <th>WebframeWorkedWith</th>\n",
       "      <th>WelcomeChange</th>\n",
       "      <th>WorkWeekHrs</th>\n",
       "      <th>YearsCode</th>\n",
       "      <th>YearsCodePro</th>\n",
       "    </tr>\n",
       "  </thead>\n",
       "  <tbody>\n",
       "    <tr>\n",
       "      <th>121</th>\n",
       "      <td>123</td>\n",
       "      <td>I am a developer by profession</td>\n",
       "      <td>Yes</td>\n",
       "      <td>26.0</td>\n",
       "      <td>12</td>\n",
       "      <td>Weekly</td>\n",
       "      <td>120000.0</td>\n",
       "      <td>2000000.0</td>\n",
       "      <td>United States</td>\n",
       "      <td>United States dollar</td>\n",
       "      <td>...</td>\n",
       "      <td>Easy</td>\n",
       "      <td>Appropriate in length</td>\n",
       "      <td>No</td>\n",
       "      <td>Computer science, computer engineering, or sof...</td>\n",
       "      <td>Flask;jQuery;React.js</td>\n",
       "      <td>Spring</td>\n",
       "      <td>Just as welcome now as I felt last year</td>\n",
       "      <td>36.0</td>\n",
       "      <td>8</td>\n",
       "      <td>3</td>\n",
       "    </tr>\n",
       "    <tr>\n",
       "      <th>123</th>\n",
       "      <td>125</td>\n",
       "      <td>I am not primarily a developer, but I write co...</td>\n",
       "      <td>Yes</td>\n",
       "      <td>41.0</td>\n",
       "      <td>30</td>\n",
       "      <td>Monthly</td>\n",
       "      <td>200000.0</td>\n",
       "      <td>2000000.0</td>\n",
       "      <td>United States</td>\n",
       "      <td>United States dollar</td>\n",
       "      <td>...</td>\n",
       "      <td>Easy</td>\n",
       "      <td>Appropriate in length</td>\n",
       "      <td>No</td>\n",
       "      <td>NaN</td>\n",
       "      <td>NaN</td>\n",
       "      <td>NaN</td>\n",
       "      <td>Just as welcome now as I felt last year</td>\n",
       "      <td>40.0</td>\n",
       "      <td>11</td>\n",
       "      <td>11</td>\n",
       "    </tr>\n",
       "    <tr>\n",
       "      <th>191</th>\n",
       "      <td>193</td>\n",
       "      <td>I am a developer by profession</td>\n",
       "      <td>Yes</td>\n",
       "      <td>29.0</td>\n",
       "      <td>16</td>\n",
       "      <td>Weekly</td>\n",
       "      <td>120000.0</td>\n",
       "      <td>2000000.0</td>\n",
       "      <td>United States</td>\n",
       "      <td>United States dollar</td>\n",
       "      <td>...</td>\n",
       "      <td>Neither easy nor difficult</td>\n",
       "      <td>Appropriate in length</td>\n",
       "      <td>No</td>\n",
       "      <td>Computer science, computer engineering, or sof...</td>\n",
       "      <td>NaN</td>\n",
       "      <td>NaN</td>\n",
       "      <td>Just as welcome now as I felt last year</td>\n",
       "      <td>40.0</td>\n",
       "      <td>13</td>\n",
       "      <td>7</td>\n",
       "    </tr>\n",
       "  </tbody>\n",
       "</table>\n",
       "<p>3 rows × 61 columns</p>\n",
       "</div>"
      ],
      "text/plain": [
       "     Respondent                                         MainBranch Hobbyist  \\\n",
       "121         123                     I am a developer by profession      Yes   \n",
       "123         125  I am not primarily a developer, but I write co...      Yes   \n",
       "191         193                     I am a developer by profession      Yes   \n",
       "\n",
       "      Age Age1stCode CompFreq  CompTotal  ConvertedComp        Country  \\\n",
       "121  26.0         12   Weekly   120000.0      2000000.0  United States   \n",
       "123  41.0         30  Monthly   200000.0      2000000.0  United States   \n",
       "191  29.0         16   Weekly   120000.0      2000000.0  United States   \n",
       "\n",
       "             CurrencyDesc  ...                  SurveyEase  \\\n",
       "121  United States dollar  ...                        Easy   \n",
       "123  United States dollar  ...                        Easy   \n",
       "191  United States dollar  ...  Neither easy nor difficult   \n",
       "\n",
       "              SurveyLength Trans  \\\n",
       "121  Appropriate in length    No   \n",
       "123  Appropriate in length    No   \n",
       "191  Appropriate in length    No   \n",
       "\n",
       "                                        UndergradMajor WebframeDesireNextYear  \\\n",
       "121  Computer science, computer engineering, or sof...  Flask;jQuery;React.js   \n",
       "123                                                NaN                    NaN   \n",
       "191  Computer science, computer engineering, or sof...                    NaN   \n",
       "\n",
       "    WebframeWorkedWith                            WelcomeChange WorkWeekHrs  \\\n",
       "121             Spring  Just as welcome now as I felt last year        36.0   \n",
       "123                NaN  Just as welcome now as I felt last year        40.0   \n",
       "191                NaN  Just as welcome now as I felt last year        40.0   \n",
       "\n",
       "    YearsCode YearsCodePro  \n",
       "121         8            3  \n",
       "123        11           11  \n",
       "191        13            7  \n",
       "\n",
       "[3 rows x 61 columns]"
      ]
     },
     "execution_count": 10,
     "metadata": {},
     "output_type": "execute_result"
    }
   ],
   "source": [
    "# Sorting the Stack Overflow data frame to see who 'Earns the most' and if there are people who earns the same...\n",
    "# ...then sort them by their 'Age'\n",
    "df.sort_values(by=[\"ConvertedComp\", \"Age\"], ascending=[False, False])[[\"Country\", \"ConvertedComp\", \"Age\", \"LanguageWorkedWith\"]].head(20)\n",
    "\n",
    "# Actually theres an easy way to get the same data using '.nlargest' as we are actually sorting 20 rows of data...\n",
    "# ... by largest ConvertedComp Value\n",
    "df.nlargest(3, \"ConvertedComp\")\n",
    "# we can also use 'nsmallest' to sort by Smallest Values"
   ]
  },
  {
   "cell_type": "code",
   "execution_count": 11,
   "metadata": {},
   "outputs": [
    {
     "data": {
      "text/html": [
       "<div>\n",
       "<style scoped>\n",
       "    .dataframe tbody tr th:only-of-type {\n",
       "        vertical-align: middle;\n",
       "    }\n",
       "\n",
       "    .dataframe tbody tr th {\n",
       "        vertical-align: top;\n",
       "    }\n",
       "\n",
       "    .dataframe thead th {\n",
       "        text-align: right;\n",
       "    }\n",
       "</style>\n",
       "<table border=\"1\" class=\"dataframe\">\n",
       "  <thead>\n",
       "    <tr style=\"text-align: right;\">\n",
       "      <th></th>\n",
       "      <th>Respondent</th>\n",
       "      <th>Age</th>\n",
       "      <th>CompTotal</th>\n",
       "      <th>ConvertedComp</th>\n",
       "      <th>WorkWeekHrs</th>\n",
       "    </tr>\n",
       "  </thead>\n",
       "  <tbody>\n",
       "    <tr>\n",
       "      <th>count</th>\n",
       "      <td>64461.000000</td>\n",
       "      <td>45446.000000</td>\n",
       "      <td>3.482600e+04</td>\n",
       "      <td>3.475600e+04</td>\n",
       "      <td>41151.000000</td>\n",
       "    </tr>\n",
       "    <tr>\n",
       "      <th>mean</th>\n",
       "      <td>32554.079738</td>\n",
       "      <td>30.834111</td>\n",
       "      <td>3.190464e+242</td>\n",
       "      <td>1.037561e+05</td>\n",
       "      <td>40.782174</td>\n",
       "    </tr>\n",
       "    <tr>\n",
       "      <th>std</th>\n",
       "      <td>18967.442360</td>\n",
       "      <td>9.585392</td>\n",
       "      <td>inf</td>\n",
       "      <td>2.268853e+05</td>\n",
       "      <td>17.816383</td>\n",
       "    </tr>\n",
       "    <tr>\n",
       "      <th>min</th>\n",
       "      <td>1.000000</td>\n",
       "      <td>1.000000</td>\n",
       "      <td>0.000000e+00</td>\n",
       "      <td>0.000000e+00</td>\n",
       "      <td>1.000000</td>\n",
       "    </tr>\n",
       "    <tr>\n",
       "      <th>25%</th>\n",
       "      <td>16116.000000</td>\n",
       "      <td>24.000000</td>\n",
       "      <td>2.000000e+04</td>\n",
       "      <td>2.464800e+04</td>\n",
       "      <td>40.000000</td>\n",
       "    </tr>\n",
       "    <tr>\n",
       "      <th>50%</th>\n",
       "      <td>32231.000000</td>\n",
       "      <td>29.000000</td>\n",
       "      <td>6.300000e+04</td>\n",
       "      <td>5.404900e+04</td>\n",
       "      <td>40.000000</td>\n",
       "    </tr>\n",
       "    <tr>\n",
       "      <th>75%</th>\n",
       "      <td>49142.000000</td>\n",
       "      <td>35.000000</td>\n",
       "      <td>1.250000e+05</td>\n",
       "      <td>9.500000e+04</td>\n",
       "      <td>44.000000</td>\n",
       "    </tr>\n",
       "    <tr>\n",
       "      <th>max</th>\n",
       "      <td>65639.000000</td>\n",
       "      <td>279.000000</td>\n",
       "      <td>1.111111e+247</td>\n",
       "      <td>2.000000e+06</td>\n",
       "      <td>475.000000</td>\n",
       "    </tr>\n",
       "  </tbody>\n",
       "</table>\n",
       "</div>"
      ],
      "text/plain": [
       "         Respondent           Age      CompTotal  ConvertedComp   WorkWeekHrs\n",
       "count  64461.000000  45446.000000   3.482600e+04   3.475600e+04  41151.000000\n",
       "mean   32554.079738     30.834111  3.190464e+242   1.037561e+05     40.782174\n",
       "std    18967.442360      9.585392            inf   2.268853e+05     17.816383\n",
       "min        1.000000      1.000000   0.000000e+00   0.000000e+00      1.000000\n",
       "25%    16116.000000     24.000000   2.000000e+04   2.464800e+04     40.000000\n",
       "50%    32231.000000     29.000000   6.300000e+04   5.404900e+04     40.000000\n",
       "75%    49142.000000     35.000000   1.250000e+05   9.500000e+04     44.000000\n",
       "max    65639.000000    279.000000  1.111111e+247   2.000000e+06    475.000000"
      ]
     },
     "execution_count": 11,
     "metadata": {},
     "output_type": "execute_result"
    }
   ],
   "source": [
    "\"\"\" Know things about your data : \"\"\"\n",
    "# .median() gives us the median while .describe() describes the data by returning various statistical measures\n",
    "df[\"Age\"].median()\n",
    "df.describe()"
   ]
  },
  {
   "cell_type": "code",
   "execution_count": 12,
   "metadata": {},
   "outputs": [],
   "source": [
    "# grouping the data by country to see the value counts of age of those countries\n",
    "country_grp = df.groupby([\"Country\"])"
   ]
  },
  {
   "cell_type": "code",
   "execution_count": 13,
   "metadata": {},
   "outputs": [
    {
     "data": {
      "text/plain": [
       "62697.0"
      ]
     },
     "execution_count": 13,
     "metadata": {},
     "output_type": "execute_result"
    }
   ],
   "source": [
    "country_grp[\"ConvertedComp\"].median().loc[\"Germany\"]  # Cause Country names are the new indexes now."
   ]
  },
  {
   "cell_type": "code",
   "execution_count": 14,
   "metadata": {},
   "outputs": [
    {
     "data": {
      "text/html": [
       "<div>\n",
       "<style scoped>\n",
       "    .dataframe tbody tr th:only-of-type {\n",
       "        vertical-align: middle;\n",
       "    }\n",
       "\n",
       "    .dataframe tbody tr th {\n",
       "        vertical-align: top;\n",
       "    }\n",
       "\n",
       "    .dataframe thead th {\n",
       "        text-align: right;\n",
       "    }\n",
       "</style>\n",
       "<table border=\"1\" class=\"dataframe\">\n",
       "  <thead>\n",
       "    <tr style=\"text-align: right;\">\n",
       "      <th></th>\n",
       "      <th>median</th>\n",
       "      <th>mean</th>\n",
       "      <th>std</th>\n",
       "      <th>var</th>\n",
       "    </tr>\n",
       "    <tr>\n",
       "      <th>Country</th>\n",
       "      <th></th>\n",
       "      <th></th>\n",
       "      <th></th>\n",
       "      <th></th>\n",
       "    </tr>\n",
       "  </thead>\n",
       "  <tbody>\n",
       "    <tr>\n",
       "      <th>Afghanistan</th>\n",
       "      <td>15163.5</td>\n",
       "      <td>148290.125000</td>\n",
       "      <td>332705.942277</td>\n",
       "      <td>1.106932e+11</td>\n",
       "    </tr>\n",
       "    <tr>\n",
       "      <th>Albania</th>\n",
       "      <td>15900.0</td>\n",
       "      <td>25611.000000</td>\n",
       "      <td>40946.849387</td>\n",
       "      <td>1.676644e+09</td>\n",
       "    </tr>\n",
       "    <tr>\n",
       "      <th>Algeria</th>\n",
       "      <td>9432.0</td>\n",
       "      <td>10362.812500</td>\n",
       "      <td>8802.055769</td>\n",
       "      <td>7.747619e+07</td>\n",
       "    </tr>\n",
       "    <tr>\n",
       "      <th>Andorra</th>\n",
       "      <td>88640.0</td>\n",
       "      <td>88640.000000</td>\n",
       "      <td>74908.063972</td>\n",
       "      <td>5.611218e+09</td>\n",
       "    </tr>\n",
       "    <tr>\n",
       "      <th>Angola</th>\n",
       "      <td>5292.0</td>\n",
       "      <td>5292.000000</td>\n",
       "      <td>627.910822</td>\n",
       "      <td>3.942720e+05</td>\n",
       "    </tr>\n",
       "    <tr>\n",
       "      <th>...</th>\n",
       "      <td>...</td>\n",
       "      <td>...</td>\n",
       "      <td>...</td>\n",
       "      <td>...</td>\n",
       "    </tr>\n",
       "    <tr>\n",
       "      <th>Venezuela, Bolivarian Republic of...</th>\n",
       "      <td>3600.0</td>\n",
       "      <td>6280.611111</td>\n",
       "      <td>6714.752459</td>\n",
       "      <td>4.508790e+07</td>\n",
       "    </tr>\n",
       "    <tr>\n",
       "      <th>Viet Nam</th>\n",
       "      <td>10344.0</td>\n",
       "      <td>28342.605769</td>\n",
       "      <td>99697.518064</td>\n",
       "      <td>9.939595e+09</td>\n",
       "    </tr>\n",
       "    <tr>\n",
       "      <th>Yemen</th>\n",
       "      <td>36000.0</td>\n",
       "      <td>36000.000000</td>\n",
       "      <td>NaN</td>\n",
       "      <td>NaN</td>\n",
       "    </tr>\n",
       "    <tr>\n",
       "      <th>Zambia</th>\n",
       "      <td>5452.0</td>\n",
       "      <td>17506.400000</td>\n",
       "      <td>24930.397125</td>\n",
       "      <td>6.215247e+08</td>\n",
       "    </tr>\n",
       "    <tr>\n",
       "      <th>Zimbabwe</th>\n",
       "      <td>7200.0</td>\n",
       "      <td>26338.181818</td>\n",
       "      <td>51791.586540</td>\n",
       "      <td>2.682368e+09</td>\n",
       "    </tr>\n",
       "  </tbody>\n",
       "</table>\n",
       "<p>183 rows × 4 columns</p>\n",
       "</div>"
      ],
      "text/plain": [
       "                                       median           mean            std  \\\n",
       "Country                                                                       \n",
       "Afghanistan                           15163.5  148290.125000  332705.942277   \n",
       "Albania                               15900.0   25611.000000   40946.849387   \n",
       "Algeria                                9432.0   10362.812500    8802.055769   \n",
       "Andorra                               88640.0   88640.000000   74908.063972   \n",
       "Angola                                 5292.0    5292.000000     627.910822   \n",
       "...                                       ...            ...            ...   \n",
       "Venezuela, Bolivarian Republic of...   3600.0    6280.611111    6714.752459   \n",
       "Viet Nam                              10344.0   28342.605769   99697.518064   \n",
       "Yemen                                 36000.0   36000.000000            NaN   \n",
       "Zambia                                 5452.0   17506.400000   24930.397125   \n",
       "Zimbabwe                               7200.0   26338.181818   51791.586540   \n",
       "\n",
       "                                               var  \n",
       "Country                                             \n",
       "Afghanistan                           1.106932e+11  \n",
       "Albania                               1.676644e+09  \n",
       "Algeria                               7.747619e+07  \n",
       "Andorra                               5.611218e+09  \n",
       "Angola                                3.942720e+05  \n",
       "...                                            ...  \n",
       "Venezuela, Bolivarian Republic of...  4.508790e+07  \n",
       "Viet Nam                              9.939595e+09  \n",
       "Yemen                                          NaN  \n",
       "Zambia                                6.215247e+08  \n",
       "Zimbabwe                              2.682368e+09  \n",
       "\n",
       "[183 rows x 4 columns]"
      ]
     },
     "execution_count": 14,
     "metadata": {},
     "output_type": "execute_result"
    }
   ],
   "source": [
    "# to apply multiple aggregate functions : \n",
    "country_grp[\"ConvertedComp\"].aggregate([\"median\", \"mean\", \"std\", \"var\"])"
   ]
  },
  {
   "cell_type": "markdown",
   "metadata": {},
   "source": [
    " "
   ]
  },
  {
   "cell_type": "raw",
   "metadata": {},
   "source": [
    "?) Question : Get the percentage of people who knows Python by countries"
   ]
  },
  {
   "cell_type": "raw",
   "metadata": {},
   "source": [
    "---> Sol01"
   ]
  },
  {
   "cell_type": "code",
   "execution_count": 15,
   "metadata": {},
   "outputs": [
    {
     "data": {
      "text/plain": [
       "Country                 \n",
       "Germany             True    0.440103\n",
       "United Kingdom      True    0.416068\n",
       "Russian Federation  True    0.385531\n",
       "Albania             True    0.240741\n",
       "United States       True    0.478306\n",
       "                              ...   \n",
       "                    True    0.478306\n",
       "Morocco             True    0.380682\n",
       "Viet Nam            True    0.280220\n",
       "Poland              True    0.398279\n",
       "Spain               True    0.385874\n",
       "Name: LanguageWorkedWith, Length: 64461, dtype: float64"
      ]
     },
     "execution_count": 15,
     "metadata": {},
     "output_type": "execute_result"
    }
   ],
   "source": [
    "# We use 'apply' instead of using '.str' directly as 'SeriesGroupBy' object has no attribute 'str'\n",
    "knows_py = country_grp[\"LanguageWorkedWith\"].apply(lambda x: x.str.contains(\"Python\", na=False).value_counts(normalize=True))\n",
    "\n",
    "countries = list(df.Country)\n",
    "truth = [True for x in range(len(countries))]\n",
    "\n",
    "index_to_look = list(zip(countries, truth))\n",
    "\n",
    "knows_py.reindex(index_to_look)"
   ]
  },
  {
   "cell_type": "raw",
   "metadata": {},
   "source": [
    "---> Sol 02"
   ]
  },
  {
   "cell_type": "code",
   "execution_count": 16,
   "metadata": {},
   "outputs": [],
   "source": [
    "num_coders_knows_py = pd.DataFrame(country_grp[\"LanguageWorkedWith\"].apply(lambda x: x.str.contains(\"Python\", na=False).sum()))\n",
    "\n",
    "num_coders = pd.DataFrame(df[\"Country\"].value_counts())\n",
    "\n",
    "country_coders = pd.concat([num_coders_knows_py, num_coders], axis=1, sort=True)\n",
    "\n",
    "country_coders.rename(columns={\"LanguageWorkedWith\": \"Num_Python_Coders\", \"Country\": \"Num_Coders\"}, inplace=True)\n",
    "\n",
    "country_coders[\"Py_Coders_Percentage\"] = (country_coders[\"Num_Python_Coders\"] / country_coders[\"Num_Coders\"]) * 100"
   ]
  },
  {
   "cell_type": "code",
   "execution_count": 17,
   "metadata": {},
   "outputs": [
    {
     "data": {
      "text/html": [
       "<div>\n",
       "<style scoped>\n",
       "    .dataframe tbody tr th:only-of-type {\n",
       "        vertical-align: middle;\n",
       "    }\n",
       "\n",
       "    .dataframe tbody tr th {\n",
       "        vertical-align: top;\n",
       "    }\n",
       "\n",
       "    .dataframe thead th {\n",
       "        text-align: right;\n",
       "    }\n",
       "</style>\n",
       "<table border=\"1\" class=\"dataframe\">\n",
       "  <thead>\n",
       "    <tr style=\"text-align: right;\">\n",
       "      <th></th>\n",
       "      <th>Num_Python_Coders</th>\n",
       "      <th>Num_Coders</th>\n",
       "      <th>Py_Coders_Percentage</th>\n",
       "    </tr>\n",
       "  </thead>\n",
       "  <tbody>\n",
       "    <tr>\n",
       "      <th>Afghanistan</th>\n",
       "      <td>11</td>\n",
       "      <td>84</td>\n",
       "      <td>13.095238</td>\n",
       "    </tr>\n",
       "    <tr>\n",
       "      <th>Albania</th>\n",
       "      <td>13</td>\n",
       "      <td>54</td>\n",
       "      <td>24.074074</td>\n",
       "    </tr>\n",
       "    <tr>\n",
       "      <th>Algeria</th>\n",
       "      <td>40</td>\n",
       "      <td>94</td>\n",
       "      <td>42.553191</td>\n",
       "    </tr>\n",
       "    <tr>\n",
       "      <th>Andorra</th>\n",
       "      <td>3</td>\n",
       "      <td>13</td>\n",
       "      <td>23.076923</td>\n",
       "    </tr>\n",
       "    <tr>\n",
       "      <th>Angola</th>\n",
       "      <td>1</td>\n",
       "      <td>9</td>\n",
       "      <td>11.111111</td>\n",
       "    </tr>\n",
       "    <tr>\n",
       "      <th>...</th>\n",
       "      <td>...</td>\n",
       "      <td>...</td>\n",
       "      <td>...</td>\n",
       "    </tr>\n",
       "    <tr>\n",
       "      <th>Venezuela, Bolivarian Republic of...</th>\n",
       "      <td>29</td>\n",
       "      <td>70</td>\n",
       "      <td>41.428571</td>\n",
       "    </tr>\n",
       "    <tr>\n",
       "      <th>Viet Nam</th>\n",
       "      <td>102</td>\n",
       "      <td>364</td>\n",
       "      <td>28.021978</td>\n",
       "    </tr>\n",
       "    <tr>\n",
       "      <th>Yemen</th>\n",
       "      <td>1</td>\n",
       "      <td>7</td>\n",
       "      <td>14.285714</td>\n",
       "    </tr>\n",
       "    <tr>\n",
       "      <th>Zambia</th>\n",
       "      <td>4</td>\n",
       "      <td>21</td>\n",
       "      <td>19.047619</td>\n",
       "    </tr>\n",
       "    <tr>\n",
       "      <th>Zimbabwe</th>\n",
       "      <td>13</td>\n",
       "      <td>31</td>\n",
       "      <td>41.935484</td>\n",
       "    </tr>\n",
       "  </tbody>\n",
       "</table>\n",
       "<p>183 rows × 3 columns</p>\n",
       "</div>"
      ],
      "text/plain": [
       "                                      Num_Python_Coders  Num_Coders  \\\n",
       "Afghanistan                                          11          84   \n",
       "Albania                                              13          54   \n",
       "Algeria                                              40          94   \n",
       "Andorra                                               3          13   \n",
       "Angola                                                1           9   \n",
       "...                                                 ...         ...   \n",
       "Venezuela, Bolivarian Republic of...                 29          70   \n",
       "Viet Nam                                            102         364   \n",
       "Yemen                                                 1           7   \n",
       "Zambia                                                4          21   \n",
       "Zimbabwe                                             13          31   \n",
       "\n",
       "                                      Py_Coders_Percentage  \n",
       "Afghanistan                                      13.095238  \n",
       "Albania                                          24.074074  \n",
       "Algeria                                          42.553191  \n",
       "Andorra                                          23.076923  \n",
       "Angola                                           11.111111  \n",
       "...                                                    ...  \n",
       "Venezuela, Bolivarian Republic of...             41.428571  \n",
       "Viet Nam                                         28.021978  \n",
       "Yemen                                            14.285714  \n",
       "Zambia                                           19.047619  \n",
       "Zimbabwe                                         41.935484  \n",
       "\n",
       "[183 rows x 3 columns]"
      ]
     },
     "execution_count": 17,
     "metadata": {},
     "output_type": "execute_result"
    }
   ],
   "source": [
    "country_coders"
   ]
  },
  {
   "cell_type": "markdown",
   "metadata": {
    "jupyter": {
     "outputs_hidden": true
    }
   },
   "source": [
    " "
   ]
  },
  {
   "cell_type": "raw",
   "metadata": {},
   "source": [
    "?) Question : Find the average value for years of coding experience."
   ]
  },
  {
   "cell_type": "raw",
   "metadata": {},
   "source": [
    "---> Sol 01"
   ]
  },
  {
   "cell_type": "raw",
   "metadata": {},
   "source": [
    "Step 01 - df[\"YearsCode\"].mean()\n",
    "          Gives, TypeError: can only concatenate str (not \"int\") to str"
   ]
  },
  {
   "cell_type": "raw",
   "metadata": {},
   "source": [
    "Step 02 - df[\"YearsCode\"] = df[\"YearsCode\"].astype(float)\n",
    "          Gives, ValueError: could not convert string to float: 'Less than 1 year'"
   ]
  },
  {
   "cell_type": "raw",
   "metadata": {},
   "source": [
    "Step 03 - df[\"YearsCode\"].unique()\n",
    "          Gives, array(['36', '7', '4', '15', '6', '17', '8', '10', '35', '5', '37', '19',\n",
    "                   '9', '22', '30', '23', '20', '2', 'Less than 1 year', '3', '13',\n",
    "                   '25', '16', '43', '11', '38', '33', nan, '24', '21', '12', '40',\n",
    "                   '27', '50', '46', '14', '18', '28', '32', '44', '26', '42', '31',\n",
    "                   '34', '29', '1', '39', '41', '45', 'More than 50 years', '47',\n",
    "                   '49', '48'], dtype=object)"
   ]
  },
  {
   "cell_type": "code",
   "execution_count": 18,
   "metadata": {},
   "outputs": [
    {
     "data": {
      "text/plain": [
       "12.709052770265584"
      ]
     },
     "execution_count": 18,
     "metadata": {},
     "output_type": "execute_result"
    }
   ],
   "source": [
    "df[\"YearsCode\"] = df[\"YearsCode\"].replace({\"Less than 1 year\": 0, \"More than 50 years\":51})\n",
    "df[\"YearsCode\"] = df[\"YearsCode\"].astype(float)\n",
    "df[\"YearsCode\"].mean()"
   ]
  },
  {
   "cell_type": "markdown",
   "metadata": {
    "jupyter": {
     "outputs_hidden": true
    }
   },
   "source": [
    " "
   ]
  },
  {
   "cell_type": "raw",
   "metadata": {},
   "source": [
    "? Question : Resample the dt_df Data Frame so that it displays the data on a Weekly basis instead of Hourly basis."
   ]
  },
  {
   "cell_type": "raw",
   "metadata": {},
   "source": [
    "---> Sol 01 (By applying different aggregate functions on different columns of the DF)"
   ]
  },
  {
   "cell_type": "code",
   "execution_count": 19,
   "metadata": {},
   "outputs": [
    {
     "data": {
      "text/html": [
       "<div>\n",
       "<style scoped>\n",
       "    .dataframe tbody tr th:only-of-type {\n",
       "        vertical-align: middle;\n",
       "    }\n",
       "\n",
       "    .dataframe tbody tr th {\n",
       "        vertical-align: top;\n",
       "    }\n",
       "\n",
       "    .dataframe thead th {\n",
       "        text-align: right;\n",
       "    }\n",
       "</style>\n",
       "<table border=\"1\" class=\"dataframe\">\n",
       "  <thead>\n",
       "    <tr style=\"text-align: right;\">\n",
       "      <th></th>\n",
       "      <th>High</th>\n",
       "      <th>Low</th>\n",
       "      <th>Volume</th>\n",
       "    </tr>\n",
       "    <tr>\n",
       "      <th>Date</th>\n",
       "      <th></th>\n",
       "      <th></th>\n",
       "      <th></th>\n",
       "    </tr>\n",
       "  </thead>\n",
       "  <tbody>\n",
       "    <tr>\n",
       "      <th>2017-07-02</th>\n",
       "      <td>293.73</td>\n",
       "      <td>253.23</td>\n",
       "      <td>8.084631e+07</td>\n",
       "    </tr>\n",
       "    <tr>\n",
       "      <th>2017-07-09</th>\n",
       "      <td>285.00</td>\n",
       "      <td>231.25</td>\n",
       "      <td>2.246746e+08</td>\n",
       "    </tr>\n",
       "    <tr>\n",
       "      <th>2017-07-16</th>\n",
       "      <td>240.33</td>\n",
       "      <td>130.26</td>\n",
       "      <td>5.017750e+08</td>\n",
       "    </tr>\n",
       "    <tr>\n",
       "      <th>2017-07-23</th>\n",
       "      <td>249.40</td>\n",
       "      <td>153.25</td>\n",
       "      <td>7.221637e+08</td>\n",
       "    </tr>\n",
       "    <tr>\n",
       "      <th>2017-07-30</th>\n",
       "      <td>229.99</td>\n",
       "      <td>178.03</td>\n",
       "      <td>2.657305e+08</td>\n",
       "    </tr>\n",
       "    <tr>\n",
       "      <th>...</th>\n",
       "      <td>...</td>\n",
       "      <td>...</td>\n",
       "      <td>...</td>\n",
       "    </tr>\n",
       "    <tr>\n",
       "      <th>2020-02-16</th>\n",
       "      <td>290.00</td>\n",
       "      <td>216.31</td>\n",
       "      <td>3.912867e+08</td>\n",
       "    </tr>\n",
       "    <tr>\n",
       "      <th>2020-02-23</th>\n",
       "      <td>287.13</td>\n",
       "      <td>242.36</td>\n",
       "      <td>3.067838e+08</td>\n",
       "    </tr>\n",
       "    <tr>\n",
       "      <th>2020-03-01</th>\n",
       "      <td>278.13</td>\n",
       "      <td>209.26</td>\n",
       "      <td>3.693920e+08</td>\n",
       "    </tr>\n",
       "    <tr>\n",
       "      <th>2020-03-08</th>\n",
       "      <td>253.01</td>\n",
       "      <td>196.00</td>\n",
       "      <td>2.736569e+08</td>\n",
       "    </tr>\n",
       "    <tr>\n",
       "      <th>2020-03-15</th>\n",
       "      <td>208.65</td>\n",
       "      <td>90.00</td>\n",
       "      <td>4.983998e+08</td>\n",
       "    </tr>\n",
       "  </tbody>\n",
       "</table>\n",
       "<p>142 rows × 3 columns</p>\n",
       "</div>"
      ],
      "text/plain": [
       "              High     Low        Volume\n",
       "Date                                    \n",
       "2017-07-02  293.73  253.23  8.084631e+07\n",
       "2017-07-09  285.00  231.25  2.246746e+08\n",
       "2017-07-16  240.33  130.26  5.017750e+08\n",
       "2017-07-23  249.40  153.25  7.221637e+08\n",
       "2017-07-30  229.99  178.03  2.657305e+08\n",
       "...            ...     ...           ...\n",
       "2020-02-16  290.00  216.31  3.912867e+08\n",
       "2020-02-23  287.13  242.36  3.067838e+08\n",
       "2020-03-01  278.13  209.26  3.693920e+08\n",
       "2020-03-08  253.01  196.00  2.736569e+08\n",
       "2020-03-15  208.65   90.00  4.983998e+08\n",
       "\n",
       "[142 rows x 3 columns]"
      ]
     },
     "execution_count": 19,
     "metadata": {},
     "output_type": "execute_result"
    }
   ],
   "source": [
    "dt_df.resample(\"W\").agg({\"High\": \"max\", \"Low\": \"min\", \"Volume\": \"sum\"})"
   ]
  },
  {
   "cell_type": "code",
   "execution_count": null,
   "metadata": {},
   "outputs": [],
   "source": []
  }
 ],
 "metadata": {
  "kernelspec": {
   "display_name": "Python 3",
   "language": "python",
   "name": "python3"
  },
  "language_info": {
   "codemirror_mode": {
    "name": "ipython",
    "version": 3
   },
   "file_extension": ".py",
   "mimetype": "text/x-python",
   "name": "python",
   "nbconvert_exporter": "python",
   "pygments_lexer": "ipython3",
   "version": "3.8.5"
  }
 },
 "nbformat": 4,
 "nbformat_minor": 4
}
