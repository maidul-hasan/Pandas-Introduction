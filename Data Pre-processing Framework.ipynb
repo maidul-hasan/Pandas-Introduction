{
 "cells": [
  {
   "cell_type": "markdown",
   "metadata": {},
   "source": [
    "### Load in the Data"
   ]
  },
  {
   "cell_type": "markdown",
   "metadata": {},
   "source": [
    "- Useful Methods for this step :"
   ]
  },
  {
   "cell_type": "markdown",
   "metadata": {},
   "source": [
    "    pd.read_csv()\n",
    "    pd.read_excel()\n",
    "    pd.read_json()"
   ]
  },
  {
   "cell_type": "markdown",
   "metadata": {},
   "source": [
    " "
   ]
  },
  {
   "cell_type": "markdown",
   "metadata": {},
   "source": [
    "## Data Pre-processing (Prepare the data for analysis)"
   ]
  },
  {
   "cell_type": "markdown",
   "metadata": {},
   "source": [
    "### 1. Inspect the DF and decide what do you want your Data to look like."
   ]
  },
  {
   "cell_type": "raw",
   "metadata": {},
   "source": [
    "Useful Methods for this step : "
   ]
  },
  {
   "cell_type": "markdown",
   "metadata": {},
   "source": [
    "    .head()\n",
    "    .info()\n",
    "    .shape()\n",
    "    .size()\n",
    "    .describe()"
   ]
  },
  {
   "cell_type": "markdown",
   "metadata": {},
   "source": [
    " "
   ]
  },
  {
   "cell_type": "markdown",
   "metadata": {},
   "source": [
    "### 2. Clean the DF. Remove NaN values and other missing or undesired entries."
   ]
  },
  {
   "cell_type": "raw",
   "metadata": {},
   "source": [
    "Useful Methods for this step :"
   ]
  },
  {
   "cell_type": "markdown",
   "metadata": {},
   "source": [
    "    .unique()\n",
    "    .nunique()\n",
    "    .duplicated()\n",
    "    .drop_duplicates()\n",
    "    .isna()\n",
    "    .fillna()\n",
    "    .dropna()\n",
    "    .replace()\n",
    "    .to_datetime()"
   ]
  },
  {
   "cell_type": "markdown",
   "metadata": {},
   "source": [
    " "
   ]
  },
  {
   "cell_type": "markdown",
   "metadata": {},
   "source": [
    "### 3. Apply string methods to optimize the object dtype columns to suit your needs. "
   ]
  },
  {
   "cell_type": "raw",
   "metadata": {},
   "source": [
    "Useful Methods for this step :"
   ]
  },
  {
   "cell_type": "markdown",
   "metadata": {},
   "source": [
    "    .str.replace()\n",
    "    .str.split()\n",
    "    .str.capitalize()\n",
    "    .str.title()\n",
    "    .str.len()\n",
    "    .str.strip()"
   ]
  },
  {
   "cell_type": "markdown",
   "metadata": {},
   "source": [
    " "
   ]
  },
  {
   "cell_type": "markdown",
   "metadata": {},
   "source": [
    "### 4. Optimize the DF for minimum memory usage and cast the DataFrame columns to your preffered data types."
   ]
  },
  {
   "cell_type": "raw",
   "metadata": {},
   "source": [
    "Useful Methods for this step :"
   ]
  },
  {
   "cell_type": "markdown",
   "metadata": {},
   "source": [
    "    .astype()"
   ]
  },
  {
   "cell_type": "markdown",
   "metadata": {},
   "source": [
    "### 5. Set a suitable index column to the DataFrame."
   ]
  },
  {
   "cell_type": "raw",
   "metadata": {},
   "source": [
    "Useful Methods for this step :"
   ]
  },
  {
   "cell_type": "markdown",
   "metadata": {},
   "source": [
    "    .set_index()"
   ]
  },
  {
   "cell_type": "markdown",
   "metadata": {},
   "source": [
    " "
   ]
  }
 ],
 "metadata": {
  "kernelspec": {
   "display_name": "Python 3",
   "language": "python",
   "name": "python3"
  },
  "language_info": {
   "codemirror_mode": {
    "name": "ipython",
    "version": 3
   },
   "file_extension": ".py",
   "mimetype": "text/x-python",
   "name": "python",
   "nbconvert_exporter": "python",
   "pygments_lexer": "ipython3",
   "version": "3.8.5"
  }
 },
 "nbformat": 4,
 "nbformat_minor": 4
}
