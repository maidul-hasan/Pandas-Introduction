{
 "cells": [
  {
   "cell_type": "markdown",
   "metadata": {},
   "source": [
    "- Notes :"
   ]
  },
  {
   "cell_type": "markdown",
   "metadata": {},
   "source": [
    "    1. In pandas axis=0 denotes Y axis and axis=1 denotes X axis.\n",
    "    2. If, dropna is set to True then, np.nan values will be ignored."
   ]
  },
  {
   "cell_type": "markdown",
   "metadata": {},
   "source": [
    "- Some useful Pandas methods :"
   ]
  },
  {
   "cell_type": "markdown",
   "metadata": {},
   "source": [
    "    pd.set_option(\"display.max_columns\", 61)\n",
    "    pd.set_option(\"display.max_rows\", 100)"
   ]
  },
  {
   "cell_type": "markdown",
   "metadata": {},
   "source": [
    " "
   ]
  },
  {
   "cell_type": "markdown",
   "metadata": {},
   "source": [
    "#### Import Statements"
   ]
  },
  {
   "cell_type": "code",
   "execution_count": 1,
   "metadata": {
    "ExecuteTime": {
     "end_time": "2020-11-09T09:57:06.309478Z",
     "start_time": "2020-11-09T09:57:02.343512Z"
    }
   },
   "outputs": [],
   "source": [
    "import numpy as np\n",
    "import pandas as pd"
   ]
  },
  {
   "cell_type": "markdown",
   "metadata": {
    "ExecuteTime": {
     "end_time": "2020-11-04T16:01:43.986389Z",
     "start_time": "2020-11-04T16:01:42.947744Z"
    }
   },
   "source": [
    "#### Loading the Data Files"
   ]
  },
  {
   "cell_type": "markdown",
   "metadata": {},
   "source": [
    "-------"
   ]
  },
  {
   "cell_type": "code",
   "execution_count": 2,
   "metadata": {
    "ExecuteTime": {
     "end_time": "2020-11-09T09:57:08.257801Z",
     "start_time": "2020-11-09T09:57:06.311126Z"
    }
   },
   "outputs": [],
   "source": [
    "df = pd.read_csv(\"PandasSampleData/survey_results_public.csv\")"
   ]
  },
  {
   "cell_type": "markdown",
   "metadata": {},
   "source": [
    "--------"
   ]
  },
  {
   "cell_type": "markdown",
   "metadata": {
    "ExecuteTime": {
     "end_time": "2020-11-04T16:01:43.986389Z",
     "start_time": "2020-11-04T16:01:42.947744Z"
    },
    "heading_collapsed": true
   },
   "source": [
    "## Pandas Primary Data Structures"
   ]
  },
  {
   "cell_type": "markdown",
   "metadata": {
    "heading_collapsed": true,
    "hidden": true
   },
   "source": [
    "### Series Data Structure"
   ]
  },
  {
   "cell_type": "markdown",
   "metadata": {
    "ExecuteTime": {
     "end_time": "2020-11-09T09:57:08.739974Z",
     "start_time": "2020-11-09T09:57:08.653831Z"
    },
    "hidden": true
   },
   "source": [
    "> Pandas Series Objects : We can think of 'Series' as a 'Single Column' of Rows of a DataFrame. It's like python lists but with more functionality."
   ]
  },
  {
   "cell_type": "code",
   "execution_count": 3,
   "metadata": {},
   "outputs": [],
   "source": [
    "sample_list = [1, 2, 3, 4]\n",
    "series_example = pd.Series(sample_list)"
   ]
  },
  {
   "cell_type": "code",
   "execution_count": 4,
   "metadata": {
    "ExecuteTime": {
     "end_time": "2020-11-09T09:57:08.739974Z",
     "start_time": "2020-11-09T09:57:08.653831Z"
    },
    "hidden": true
   },
   "outputs": [],
   "source": [
    "type(series_example)\n",
    "series_example ;  # ; is to suppress the output"
   ]
  },
  {
   "cell_type": "markdown",
   "metadata": {},
   "source": [
    "> Note : We actually can use pythons built in functions on pandas series objects. i.e., len, type, dir, in, sum, product, mean, sorted, max, min etc."
   ]
  },
  {
   "cell_type": "code",
   "execution_count": 5,
   "metadata": {},
   "outputs": [],
   "source": [
    "# \"India\" in df[\"Country\"]  # by default this will look into the, df[\"Country\"].index\n",
    "# \"India\" in df[\"Country\"].values  # to search within the actual data"
   ]
  },
  {
   "cell_type": "markdown",
   "metadata": {},
   "source": [
    "- Some useful series methods :"
   ]
  },
  {
   "cell_type": "markdown",
   "metadata": {},
   "source": [
    "    .idxmin()  # returns the index of the minimum value\n",
    "    .idxmax()  # returns the index of the maximum value\n",
    "    .value_counts()\n",
    "    .unique()\n",
    "    .nunique()\n",
    "    .nlargest()\n",
    "    .nsmallest()\n",
    "    \n",
    "    .rank()  # ranks the values by position. Useful for sorting/ranking for comparative position in the whole poll of values.\n",
    "    \n",
    "    # useful for filtering\n",
    "    .isin()\n",
    "    .isnull()\n",
    "    .notnull()\n",
    "    .between()\n",
    "    \n",
    "    # useful for trimming down the DF\n",
    "    .duplicated()  # returns a masked series for duplicate values in that series | keep=\"first\"/\"last\"/False"
   ]
  },
  {
   "cell_type": "markdown",
   "metadata": {},
   "source": [
    " "
   ]
  },
  {
   "cell_type": "markdown",
   "metadata": {
    "ExecuteTime": {
     "end_time": "2020-11-04T16:01:43.986389Z",
     "start_time": "2020-11-04T16:01:42.947744Z"
    },
    "heading_collapsed": true,
    "hidden": true
   },
   "source": [
    "### DataFrame Objects"
   ]
  },
  {
   "cell_type": "markdown",
   "metadata": {
    "ExecuteTime": {
     "end_time": "2020-11-09T09:57:08.388161Z",
     "start_time": "2020-11-09T09:57:08.270275Z"
    },
    "hidden": true
   },
   "source": [
    "> Pandas Dataframes are like python dictionaries but with more functionality."
   ]
  },
  {
   "cell_type": "code",
   "execution_count": 6,
   "metadata": {
    "ExecuteTime": {
     "end_time": "2020-11-09T09:57:08.388161Z",
     "start_time": "2020-11-09T09:57:08.270275Z"
    },
    "hidden": true
   },
   "outputs": [],
   "source": [
    "sample_dict = {\n",
    "    \"first\": [\"john\", \"jane\", \"dan\"],\n",
    "    \"last\": [\"doe\", \"doe\", \"james\"],\n",
    "    \"email\": [\"jd23@gmail.com\", \"jd21@yahoo.com\", \"dan543@outlook.com\"],\n",
    "}\n",
    "\n",
    "df_example = pd.DataFrame(sample_dict)"
   ]
  },
  {
   "cell_type": "markdown",
   "metadata": {},
   "source": [
    "- Some useful Dataframe methods :"
   ]
  },
  {
   "cell_type": "markdown",
   "metadata": {},
   "source": [
    "    .info()  # returns a short but useful description of the DF containing the column names, their data types and number of non-null values in these columns.\n",
    "\n",
    "    df.head(n)\n",
    "    df.tail(n)\n",
    "    df.sample(n)\n",
    "    df.sample(n, axis=1)\n",
    "    df.shape\n",
    "    # these above set of methods can also be used with a Series Object\n",
    "   \n",
    "    df.columns  # to get all of the column names\n",
    "    \n",
    "    .drop_duplicates()  # takes in subset, keep, inplace as parameters. By default will only remove duplicate rows keeping the first occured row."
   ]
  }
 ],
 "metadata": {
  "kernelspec": {
   "display_name": "Python 3",
   "language": "python",
   "name": "python3"
  },
  "language_info": {
   "codemirror_mode": {
    "name": "ipython",
    "version": 3
   },
   "file_extension": ".py",
   "mimetype": "text/x-python",
   "name": "python",
   "nbconvert_exporter": "python",
   "pygments_lexer": "ipython3",
   "version": "3.8.5"
  }
 },
 "nbformat": 4,
 "nbformat_minor": 4
}
