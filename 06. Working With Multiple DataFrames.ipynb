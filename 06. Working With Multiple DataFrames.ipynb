{
 "cells": [
  {
   "cell_type": "markdown",
   "metadata": {},
   "source": [
    "#### Import Statements"
   ]
  },
  {
   "cell_type": "code",
   "execution_count": 1,
   "metadata": {
    "ExecuteTime": {
     "end_time": "2020-11-09T09:57:06.309478Z",
     "start_time": "2020-11-09T09:57:02.343512Z"
    }
   },
   "outputs": [],
   "source": [
    "import numpy as np\n",
    "import pandas as pd"
   ]
  },
  {
   "cell_type": "markdown",
   "metadata": {
    "ExecuteTime": {
     "end_time": "2020-11-04T16:01:43.986389Z",
     "start_time": "2020-11-04T16:01:42.947744Z"
    }
   },
   "source": [
    "#### Loading the Data Files"
   ]
  },
  {
   "cell_type": "markdown",
   "metadata": {},
   "source": [
    "---"
   ]
  },
  {
   "cell_type": "code",
   "execution_count": 2,
   "metadata": {},
   "outputs": [],
   "source": [
    "w1_sales = pd.read_csv(\"PandasSampleData/Restaurant - Week 1 Sales.csv\")\n",
    "w2_sales = pd.read_csv(\"PandasSampleData/Restaurant - Week 2 Sales.csv\")\n",
    "w1_satisfaction= pd.read_csv(\"PandasSampleData/Restaurant - Week 1 Satisfaction.csv\")\n",
    "customers = pd.read_csv(\"PandasSampleData/Restaurant - Customers.csv\")\n",
    "foods = pd.read_csv(\"PandasSampleData/Restaurant - Foods.csv\")"
   ]
  },
  {
   "cell_type": "markdown",
   "metadata": {},
   "source": [
    "-----"
   ]
  },
  {
   "cell_type": "markdown",
   "metadata": {},
   "source": [
    " "
   ]
  },
  {
   "cell_type": "markdown",
   "metadata": {},
   "source": [
    "## Appending & Concatenating DataFrames "
   ]
  },
  {
   "cell_type": "markdown",
   "metadata": {},
   "source": [
    "- The pd.concat() method "
   ]
  },
  {
   "cell_type": "markdown",
   "metadata": {},
   "source": [
    "> Note: pd.concat() just concatenates a list of dataframes sequentially."
   ]
  },
  {
   "cell_type": "code",
   "execution_count": 3,
   "metadata": {},
   "outputs": [],
   "source": [
    "sales = pd.concat([w1_sales, w2_sales], keys=[\"W1\", \"W2\"])  # ignore_index=False"
   ]
  },
  {
   "cell_type": "code",
   "execution_count": 4,
   "metadata": {},
   "outputs": [],
   "source": [
    "sales.loc[(\"W1\", 126), \"Customer ID\":\"Food ID\"];"
   ]
  },
  {
   "cell_type": "markdown",
   "metadata": {},
   "source": [
    "- The append() method "
   ]
  },
  {
   "cell_type": "markdown",
   "metadata": {},
   "source": [
    "> Note: the append() method works exactly as the pd.concat() method but the difference is it's called on a dataframe whereas the concat is directly called as a pandas method. Also, append does not have the param keys."
   ]
  },
  {
   "cell_type": "code",
   "execution_count": 5,
   "metadata": {},
   "outputs": [],
   "source": [
    "sales = w1_sales.append(w2_sales, ignore_index=True)"
   ]
  },
  {
   "cell_type": "markdown",
   "metadata": {},
   "source": [
    "- The join() method"
   ]
  },
  {
   "cell_type": "markdown",
   "metadata": {},
   "source": [
    "> Note: The join method concatenates two DataFrames Vertically at the Indexes. In other words it Creates one/multiple new columns to the right of the 1st DataFrame in order to accumulate the 2nd DataFrame."
   ]
  },
  {
   "cell_type": "code",
   "execution_count": 6,
   "metadata": {},
   "outputs": [],
   "source": [
    "w1_sales.join(w1_satisfaction);"
   ]
  },
  {
   "cell_type": "markdown",
   "metadata": {},
   "source": [
    " "
   ]
  },
  {
   "cell_type": "markdown",
   "metadata": {},
   "source": [
    "## Joining DataFrames Like in SQL: The merge ( ) Method"
   ]
  },
  {
   "cell_type": "markdown",
   "metadata": {},
   "source": [
    "> Note: merge, is the entry point for all standard database join operations between DataFrame objects. It provides full-featured, high performance in-memory join operations idiomatically very similar to relational databases like SQL."
   ]
  },
  {
   "cell_type": "markdown",
   "metadata": {},
   "source": [
    "> Documentation :\n",
    "https://www.tutorialspoint.com/python_pandas/python_pandas_merging_joining.htm | \n",
    "https://pandas.pydata.org/pandas-docs/stable/reference/api/pandas.DataFrame.merge.html"
   ]
  },
  {
   "cell_type": "markdown",
   "metadata": {},
   "source": [
    "> A JOIN clause is used to combine rows from two or more tables, based on a related column between them."
   ]
  },
  {
   "cell_type": "markdown",
   "metadata": {},
   "source": [
    "> The INNER JOIN returns records that have matching values in both tables."
   ]
  },
  {
   "cell_type": "markdown",
   "metadata": {},
   "source": [
    "> The OUTER JOIN returns all records when there is a match in left or right table records."
   ]
  },
  {
   "cell_type": "markdown",
   "metadata": {},
   "source": [
    "> The LEFT JOIN returns all records from the left table, and the matched records from the right table. The result is NULL from the right side, if there is no match."
   ]
  },
  {
   "cell_type": "markdown",
   "metadata": {},
   "source": [
    "> The RIGHT JOIN returns all records from the right table, and the matched records from the left table. The result is NULL from the left side, when there is no match."
   ]
  },
  {
   "cell_type": "markdown",
   "metadata": {},
   "source": [
    "- Joining DataFrames by Columns"
   ]
  },
  {
   "cell_type": "code",
   "execution_count": 7,
   "metadata": {},
   "outputs": [],
   "source": [
    "# Regular Customers (A Intersection B)"
   ]
  },
  {
   "cell_type": "code",
   "execution_count": 8,
   "metadata": {},
   "outputs": [],
   "source": [
    "w1_sales.merge(w2_sales, how=\"inner\" , on=\"Customer ID\", suffixes=[\"-W1\", \"-W2\"]);"
   ]
  },
  {
   "cell_type": "code",
   "execution_count": 9,
   "metadata": {},
   "outputs": [],
   "source": [
    "# Regular Customers Regular Choice (different week, same food)"
   ]
  },
  {
   "cell_type": "code",
   "execution_count": 10,
   "metadata": {},
   "outputs": [],
   "source": [
    "w1_sales.merge(w2_sales, how=\"inner\", on=[\"Customer ID\", \"Food ID\"]);"
   ]
  },
  {
   "cell_type": "code",
   "execution_count": 11,
   "metadata": {},
   "outputs": [],
   "source": [
    "# All Customers (A Union B)"
   ]
  },
  {
   "cell_type": "code",
   "execution_count": 12,
   "metadata": {},
   "outputs": [],
   "source": [
    "w1_sales.merge(w2_sales, how=\"outer\", on=\"Customer ID\", suffixes=[\"-W1\", \"-W2\"]);"
   ]
  },
  {
   "cell_type": "code",
   "execution_count": 13,
   "metadata": {},
   "outputs": [],
   "source": [
    "# Non-regular Customers (U - I)"
   ]
  },
  {
   "cell_type": "code",
   "execution_count": 14,
   "metadata": {},
   "outputs": [],
   "source": [
    "ac = w1_sales.merge(w2_sales, how=\"outer\", on=\"Customer ID\", suffixes=[\"-W1\", \"-W2\"], indicator=True)\n",
    "filt = (ac[\"_merge\"] == \"both\")\n",
    "nrc = ac[~filt] "
   ]
  },
  {
   "cell_type": "code",
   "execution_count": 15,
   "metadata": {},
   "outputs": [],
   "source": [
    "# Customers' ID and Their Names"
   ]
  },
  {
   "cell_type": "code",
   "execution_count": 16,
   "metadata": {},
   "outputs": [],
   "source": [
    "w1_sales.merge(customers, how=\"left\", left_on=\"Customer ID\", right_on=\"ID\", sort=True).drop(\"ID\", axis=\"columns\");"
   ]
  },
  {
   "cell_type": "markdown",
   "metadata": {},
   "source": [
    "- Joining DataFrames by Indexes"
   ]
  },
  {
   "cell_type": "code",
   "execution_count": 17,
   "metadata": {},
   "outputs": [],
   "source": [
    "# Sales in both weeks (where the customers must purchased in week2) "
   ]
  },
  {
   "cell_type": "code",
   "execution_count": 18,
   "metadata": {},
   "outputs": [],
   "source": [
    "w1_sales.set_index(\"Customer ID\", inplace=True)\n",
    "w2_sales.set_index(\"Customer ID\", inplace=True)"
   ]
  },
  {
   "cell_type": "code",
   "execution_count": 19,
   "metadata": {},
   "outputs": [],
   "source": [
    "sales = w1_sales.merge(w2_sales, how=\"right\", left_index=True, right_index=True, suffixes=[\"-W1\", \"-W2\"])"
   ]
  },
  {
   "cell_type": "code",
   "execution_count": 20,
   "metadata": {},
   "outputs": [],
   "source": [
    "sales;"
   ]
  },
  {
   "cell_type": "code",
   "execution_count": null,
   "metadata": {},
   "outputs": [],
   "source": []
  }
 ],
 "metadata": {
  "kernelspec": {
   "display_name": "Python 3",
   "language": "python",
   "name": "python3"
  },
  "language_info": {
   "codemirror_mode": {
    "name": "ipython",
    "version": 3
   },
   "file_extension": ".py",
   "mimetype": "text/x-python",
   "name": "python",
   "nbconvert_exporter": "python",
   "pygments_lexer": "ipython3",
   "version": "3.8.5"
  },
  "toc-autonumbering": false,
  "toc-showmarkdowntxt": false,
  "toc-showtags": false
 },
 "nbformat": 4,
 "nbformat_minor": 4
}
